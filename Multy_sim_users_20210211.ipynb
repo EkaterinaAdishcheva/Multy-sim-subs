{
 "cells": [
  {
   "cell_type": "markdown",
   "metadata": {},
   "source": [
    "# Тестовое задание.\n",
    "## Определить абонентов (msisdn), которые являются одной и той же Персоной (человеком)."
   ]
  },
  {
   "cell_type": "code",
   "execution_count": 1,
   "metadata": {},
   "outputs": [],
   "source": [
    "import pandas as pd\n",
    "import os\n",
    "from os import walk\n",
    "import datetime\n",
    "pd.set_option('display.max_columns', 500)\n",
    "\n",
    "import numpy as np\n",
    "import matplotlib.pyplot as plt\n",
    "import seaborn as sns\n",
    "\n",
    "from datetime import datetime, date\n",
    "\n",
    "import csv\n",
    "\n",
    "import folium\n",
    "from folium import plugins\n",
    "from folium.plugins import HeatMap\n",
    "import branca\n",
    "import branca.colormap as cm"
   ]
  },
  {
   "cell_type": "markdown",
   "metadata": {},
   "source": [
    "Загружаем данные и преобразуем в удобный формат некоторые поля"
   ]
  },
  {
   "cell_type": "code",
   "execution_count": 2,
   "metadata": {},
   "outputs": [],
   "source": [
    "current_directory = r'C:\\Users\\ekaterina.adischeva\\Documents\\Scripts\\BD_task\\Техническое задание_аналитик больших данных\\Данные'\n",
    "current_directory = current_directory.replace('\\\\','/')\n",
    "os.chdir(current_directory)"
   ]
  },
  {
   "cell_type": "code",
   "execution_count": 3,
   "metadata": {},
   "outputs": [],
   "source": [
    "df_data = pd.read_csv('02_Data.csv', sep = ';', dtype = {'imei': str, 'lac' : 'str', 'cid' : 'str'})\n",
    "facts = pd.read_excel('01_Факты.xlsx', header = None)\n",
    "tac_dict = pd.read_csv('03_устройства.csv', quoting=csv.QUOTE_NONE)\n",
    "event_type = pd.read_excel('04_event_type.xlsx')"
   ]
  },
  {
   "cell_type": "code",
   "execution_count": 4,
   "metadata": {},
   "outputs": [],
   "source": [
    "tac_dict.columns = tac_dict.columns.str.replace('\\\"','')\n",
    "for column_name in tac_dict.columns:\n",
    "    tac_dict[column_name] = tac_dict[column_name].str.replace('\\\"','')"
   ]
  },
  {
   "cell_type": "markdown",
   "metadata": {},
   "source": [
    "Преобразуем в datetime время регистрации события на базовой станции (количество 1/1000 секунды, прошедших с 01.01.1970 до времени регистрации на БС.)\n",
    "\n",
    "Выделяем tac из поля imei "
   ]
  },
  {
   "cell_type": "code",
   "execution_count": 5,
   "metadata": {},
   "outputs": [],
   "source": [
    "df_data['datetime'] = pd.to_timedelta(df_data['tstamp']/1000, unit='S') + pd.Timestamp('1970-1-1')\n",
    "df_data['datetime'] = pd.to_datetime(df_data['datetime'])\n",
    "\n",
    "df_data['tac'] = df_data['imei'].str.slice(0,8)"
   ]
  },
  {
   "cell_type": "markdown",
   "metadata": {},
   "source": [
    "Подгружаем значения из справочников в данные о перемещении абонентов "
   ]
  },
  {
   "cell_type": "code",
   "execution_count": 7,
   "metadata": {},
   "outputs": [],
   "source": [
    "df_data = df_data.merge(event_type, left_on = ['event_type'], right_on = 'Номер', how = 'left')\n",
    "df_data = df_data.merge(tac_dict, on = ['tac'], how = 'left')"
   ]
  },
  {
   "cell_type": "code",
   "execution_count": null,
   "metadata": {},
   "outputs": [],
   "source": [
    "'''\n",
    "def define_rectangle(long = 0., lat = 0., r = 0., angle_1 = 0., angle_2 = 0.):\n",
    "    \n",
    "    long_ = [0, r*np.cos(angle_1), r*np.cos(angle_2)]\n",
    "    lat_ = [0, r*np.sin(angle_1), r*np.sin(angle_2)]\n",
    "    \n",
    "    return long+np.min(long_)/62/1000, long+np.max(long_)/62/1000, lat+np.min(lat_)/111/1000, lat+np.max(lat_)/111/1000\n",
    "\n",
    "df_data[['long_min','long_max', 'lat_min','lat_max']] = df_data.apply(lambda x: pd.Series(define_rectangle(x['long'],\n",
    "                                                                                                x['lat'],\n",
    "                                                                                                x['max_dist'],\n",
    "                                                                                                x['start_angle'],\n",
    "                                                                                                x['end_angle'])),axis = 1)\n",
    "'''"
   ]
  },
  {
   "cell_type": "code",
   "execution_count": null,
   "metadata": {},
   "outputs": [],
   "source": [
    "def haversine_array(lat1, lng1, lat2, lng2):\n",
    "    lat1, lng1, lat2, lng2 = map(np.radians, (lat1, lng1, lat2, lng2))\n",
    "    AVG_EARTH_RADIUS = 6371  # in km\n",
    "    lat = lat2 - lat1\n",
    "    lng = lng2 - lng1\n",
    "    d = np.sin(lat * 0.5) ** 2 + np.cos(lat1) * np.cos(lat2) * np.sin(lng * 0.5) ** 2\n",
    "    h = 2 * AVG_EARTH_RADIUS * np.arcsin(np.sqrt(d))\n",
    "    return h\n",
    "lat_length = haversine_array(55.2522200, 37.6155600, 56.2522200, 37.6155600)\n",
    "long_length = haversine_array(55.7522200, 37.1155600, 55.7522200, 38.1155600)"
   ]
  },
  {
   "cell_type": "code",
   "execution_count": null,
   "metadata": {},
   "outputs": [],
   "source": [
    "df_data['long_start'] = df_data['long'] + df_data['max_dist'] * np.sin(df_data['start_angle'])/long_length/1000\n",
    "df_data['long_end'] = df_data['long'] + df_data['max_dist'] * np.sin(df_data['end_angle'])/long_length/1000\n",
    "df_data['long_min'] = df_data[['long_start', 'long_end', 'long']].min(axis = 1)\n",
    "df_data['long_max'] = df_data[['long_start', 'long_end', 'long']].max(axis = 1)"
   ]
  },
  {
   "cell_type": "code",
   "execution_count": null,
   "metadata": {},
   "outputs": [],
   "source": [
    "df_data['lat_start'] = df_data['lat'] + df_data['max_dist'] * np.cos(df_data['start_angle'])/lat_d/1000\n",
    "df_data['lat_end'] = df_data['lat'] + df_data['max_dist'] * np.cos(df_data['end_angle'])/lat_d/1000\n",
    "df_data['lat_min'] = df_data[['lat_start', 'lat_end', 'lat']].min(axis = 1)\n",
    "df_data['lat_max'] = df_data[['lat_start', 'lat_end', 'lat']].max(axis = 1)"
   ]
  },
  {
   "cell_type": "code",
   "execution_count": null,
   "metadata": {},
   "outputs": [],
   "source": [
    "def show_chart(fig, data_a, data_b ):\n",
    "    \"\"\"\n",
    "    The function draws 2 chatrs: msisdn lattitude on time and msisdn longitude on time\n",
    "\n",
    "\"\"\"\n",
    "\n",
    "    data_a_copy = data_a\n",
    "    data_b_copy = data_b\n",
    "\n",
    "    plt.subplot(1, 2, 1)\n",
    "    feature = 'long'\n",
    "    plt.scatter(data_a_copy['datetime'], data_a_copy[feature], alpha = .5, c = 'blue')\n",
    "    plt.plot(data_a_copy['datetime'], data_a_copy[feature+'_max'],'-o',alpha = .3, color='blue')\n",
    "    plt.plot(data_a_copy['datetime'], data_a_copy[feature+'_min'],'-o',alpha = .3, color='blue')\n",
    "    plt.scatter(data_b_copy['datetime'], data_b_copy[feature], alpha = .5, c = 'red')\n",
    "    plt.plot(data_b_copy['datetime'], data_b_copy[feature+'_max'],'-o',alpha = .3, color='red')\n",
    "    plt.plot(data_b_copy['datetime'], data_b_copy[feature+'_min'],'-o',alpha = .3, color='red')\n",
    "    plt.xlim(pd.concat([data_a,data_b])['datetime'].min(), pd.concat([data_a,data_b])['datetime'].max())\n",
    "    plt.xticks(rotation=70)\n",
    "\n",
    "    plt.subplot(1, 2, 2)\n",
    "    feature = 'lat'\n",
    "    plt.scatter(data_a_copy['datetime'], data_a_copy[feature], alpha = .5, c = 'blue')\n",
    "    plt.plot(data_a_copy['datetime'], data_a_copy[feature+'_max'],'-o',alpha = .3, color='blue')\n",
    "    plt.plot(data_a_copy['datetime'], data_a_copy[feature+'_min'],'-o',alpha = .3, color='blue')\n",
    "    plt.scatter(data_b_copy['datetime'], data_b_copy[feature], alpha = .5, c = 'red')\n",
    "    plt.plot(data_b_copy['datetime'], data_b_copy[feature+'_max'],'-o',alpha = .3, color='red')\n",
    "    plt.plot(data_b_copy['datetime'], data_b_copy[feature+'_min'],'-o',alpha = .3, color='red')\n",
    "    plt.xlim(pd.concat([data_a,data_b])['datetime'].min(), pd.concat([data_a,data_b])['datetime'].max())\n",
    "    plt.xticks(rotation=70)\n",
    "    \n",
    "    plt.show()\n",
    "    return fig"
   ]
  },
  {
   "cell_type": "code",
   "execution_count": null,
   "metadata": {},
   "outputs": [],
   "source": [
    "def show_circles_on_map(m, data, latitude_column, longitude_column, color):\n",
    "    \"\"\"\n",
    "    The function draws map with circles on it.\n",
    "    The center of the map is the mean of coordinates passed in data.\n",
    "    \n",
    "    data: DataFrame that contains columns latitude_column and longitude_column\n",
    "    latitude_column: string, the name of column for latitude coordinates\n",
    "    longitude_column: string, the name of column for longitude coordinates\n",
    "    color: string, the color of circles to be drawn\n",
    "    \"\"\"\n",
    "\n",
    "    location = (data[latitude_column].mean(), data[longitude_column].mean())\n",
    "\n",
    "    for _, row in data.iterrows():\n",
    "        folium.Circle(\n",
    "            radius=100,\n",
    "            location=(row[latitude_column], row[longitude_column]),\n",
    "            color=color,\n",
    "            fill_color=color,\n",
    "            fill=True,\n",
    "            fill_opacity = .5\n",
    "        ).add_to(m)\n",
    "\n",
    "    return m"
   ]
  },
  {
   "cell_type": "code",
   "execution_count": null,
   "metadata": {},
   "outputs": [],
   "source": [
    "# for 2 persons we don't have second msisdn in our dataset\n",
    "display(facts[~facts[1].isin(df_data['msisdn'])], \n",
    "        facts[~facts[0].isin(df_data['msisdn'])])"
   ]
  },
  {
   "cell_type": "code",
   "execution_count": null,
   "metadata": {},
   "outputs": [],
   "source": [
    "plt.hist(df_data['datetime'].values, bins=100)\n",
    "plt.xticks(rotation=70)\n",
    "plt.show()"
   ]
  },
  {
   "cell_type": "code",
   "execution_count": null,
   "metadata": {},
   "outputs": [],
   "source": [
    "m = folium.Map(location=(55.7522200, 37.6155600))\n",
    "show_circles_on_map(m, df_data.sample(500), \"lat\", \"long\", \"blue\")"
   ]
  },
  {
   "cell_type": "code",
   "execution_count": null,
   "metadata": {},
   "outputs": [],
   "source": [
    "df_data.loc[:, 'date'] = df_data['datetime'].dt.date"
   ]
  },
  {
   "cell_type": "code",
   "execution_count": null,
   "metadata": {},
   "outputs": [],
   "source": [
    "df_data['date'].value_counts()"
   ]
  },
  {
   "cell_type": "code",
   "execution_count": null,
   "metadata": {},
   "outputs": [],
   "source": [
    "df_data = df_data[(df_data['datetime']  < datetime.strptime('2013-05-26', '%Y-%m-%d'))\n",
    "         #         & (df_data['datetime']  >= datetime.strptime('2013-05-23', '%Y-%m-%d'))\n",
    "                 ]\n",
    "\n",
    "df_data['date'].value_counts()"
   ]
  },
  {
   "cell_type": "code",
   "execution_count": null,
   "metadata": {},
   "outputs": [],
   "source": [
    "df_data['angel'] = np.where(df_data['end_angle'] < df_data['start_angle'], df_data['end_angle'] - df_data['start_angle'] + 360,\n",
    "                        df_data['end_angle'] - df_data['start_angle'])"
   ]
  },
  {
   "cell_type": "code",
   "execution_count": null,
   "metadata": {},
   "outputs": [],
   "source": [
    "df_data['angel'].value_counts()"
   ]
  },
  {
   "cell_type": "code",
   "execution_count": null,
   "metadata": {},
   "outputs": [],
   "source": [
    "plt.hist(df_data['max_dist'].values, bins=20)\n",
    "plt.xticks(rotation=70)\n",
    "plt.show()"
   ]
  },
  {
   "cell_type": "code",
   "execution_count": null,
   "metadata": {},
   "outputs": [],
   "source": [
    "'''\n",
    "bs_agg = df_data.groupby(['lat', 'long'])['msisdn'].count().reset_index()\n",
    "bs_agg = bs_agg.sample(770)\n",
    "\n",
    "\n",
    "bs_agg_min = bs_agg['msisdn'].min()\n",
    "bs_agg_max = bs_agg['msisdn'].max()\n",
    "print(bs_agg_min, bs_agg_max)\n",
    "\n",
    "m = folium.Map(location=(55.7522200, 37.6155600)) \n",
    "colormap = cm.LinearColormap(colors=['lightblue','red'],\n",
    "                             index=[bs_agg_min,bs_agg_max],\n",
    "                             vmin=bs_agg_min,vmax=bs_agg_max)\n",
    "\n",
    "\n",
    "lat = list(bs_agg.lat)\n",
    "lon = list(bs_agg.long)\n",
    "pow = list(bs_agg.msisdn)\n",
    "\n",
    "for loc, p in zip(zip(lat, lon), pow):\n",
    "    folium.Circle(\n",
    "        location=loc,\n",
    "        radius=1000,\n",
    "        fill=True,\n",
    "        color='red',\n",
    "        fill_opacity=0.1\n",
    "    ).add_to(m)\n",
    "\n",
    "m.add_child(colormap)\n",
    "\n",
    "display(m)\n",
    "'''"
   ]
  },
  {
   "cell_type": "code",
   "execution_count": null,
   "metadata": {},
   "outputs": [],
   "source": [
    "df_data['hour'] = df_data.datetime.dt.hour\n",
    "df_data['day_of_month'] = df_data.datetime.dt.day\n",
    "df_data['minute_of_hour'] = df_data.datetime.dt.minute"
   ]
  },
  {
   "cell_type": "code",
   "execution_count": null,
   "metadata": {},
   "outputs": [],
   "source": [
    "sns.relplot(data=df_data.groupby(['hour', 'day_of_month'])['lac'].count().reset_index(),\n",
    "            y=\"lac\", x=\"hour\", hue = 'day_of_month')"
   ]
  },
  {
   "cell_type": "code",
   "execution_count": null,
   "metadata": {},
   "outputs": [],
   "source": [
    "from sklearn.preprocessing import KBinsDiscretizer\n",
    "from sklearn.datasets import make_blobs"
   ]
  },
  {
   "cell_type": "code",
   "execution_count": null,
   "metadata": {},
   "outputs": [],
   "source": [
    "X = df_data['datetime'].values.tolist()\n",
    "X = np.reshape(X, (-1, 2))"
   ]
  },
  {
   "cell_type": "code",
   "execution_count": null,
   "metadata": {},
   "outputs": [],
   "source": [
    "BINS_QNT = 23\n",
    "strategies = ['quantile']\n",
    "for strategy in strategies:\n",
    "        enc = KBinsDiscretizer(n_bins=BINS_QNT, encode='ordinal', strategy=strategy)\n",
    "        enc.fit(X)\n",
    "        Xt = enc.transform(X)\n",
    "        df_data['datetime_bin'] = Xt.ravel()"
   ]
  },
  {
   "cell_type": "code",
   "execution_count": null,
   "metadata": {},
   "outputs": [],
   "source": [
    "df_data[df_data['datetime_bin'] == 89.].groupby(['day_of_month', 'hour'])['lac'].count().reset_index()"
   ]
  },
  {
   "cell_type": "code",
   "execution_count": null,
   "metadata": {},
   "outputs": [],
   "source": [
    "sns.relplot(data=df_data.groupby(['datetime_bin', 'day_of_month'])['lac'].count().reset_index(),\n",
    "            y=\"lac\", x='datetime_bin', hue = 'day_of_month')"
   ]
  },
  {
   "cell_type": "code",
   "execution_count": null,
   "metadata": {},
   "outputs": [],
   "source": [
    "df_data_agg = df_data.groupby(['msisdn',  'datetime_bin'])['long_min', 'long_max', 'lat_min', 'lat_max', 'long', 'lat'].mean().reset_index()"
   ]
  },
  {
   "cell_type": "code",
   "execution_count": null,
   "metadata": {},
   "outputs": [],
   "source": [
    "df_data_agg['datetime'] = df_data_agg['datetime_bin'] "
   ]
  },
  {
   "cell_type": "code",
   "execution_count": null,
   "metadata": {},
   "outputs": [],
   "source": [
    "a = df_data_agg['msisdn'].drop_duplicates().reset_index().sample(n = 1)['msisdn'].iloc[0]\n",
    "b = df_data_agg['msisdn'].drop_duplicates().reset_index().sample(n = 1)['msisdn'].iloc[0]\n",
    "a, b = 158527183389, 158503655953\n",
    "a, b = 158592156963, 158534344291\n",
    "print('Random', a, b)\n",
    "fig = plt.figure(figsize=(15, 4))\n",
    "show_chart(fig, df_data[df_data['msisdn'] == a], df_data[df_data['msisdn'] == b])\n",
    "plt.show()\n",
    "fig = plt.figure(figsize=(15, 4))\n",
    "show_chart(fig, df_data_agg[df_data_agg['msisdn'] == a], df_data_agg[df_data_agg['msisdn'] == b])\n",
    "plt.show()\n",
    "\n",
    "m = folium.Map(location=(55.7522200, 37.6155600)) \n",
    "show_circles_on_map(m, df_data_agg[df_data_agg['msisdn'] == a ], \"lat\", \"long\", \"blue\")\n",
    "show_circles_on_map(m, df_data_agg[df_data_agg['msisdn'] == b ], \"lat\", \"long\", \"red\")\n"
   ]
  },
  {
   "cell_type": "code",
   "execution_count": null,
   "metadata": {},
   "outputs": [],
   "source": [
    "a, b = facts.sample(n = 1).iloc[0]\n",
    "a, b = predict_error.sample(1).iloc[0][['msisdn_x', 'msisdn_y']]\n",
    "\n",
    "print('One person', a, b)\n",
    "fig = plt.figure(figsize=(15, 4))\n",
    "show_chart(fig, df_data[df_data['msisdn'] == a], df_data[df_data['msisdn'] == b])\n",
    "plt.show()\n",
    "fig = plt.figure(figsize=(15, 4))\n",
    "show_chart(fig, df_data_agg[df_data_agg['msisdn'] == a], df_data_agg[df_data_agg['msisdn'] == b])\n",
    "plt.show()\n",
    "\n",
    "m = folium.Map(location=(55.7522200, 37.6155600)) \n",
    "show_circles_on_map(m, df_data_agg[df_data_agg['msisdn'] == a ], \"lat\", \"long\", \"blue\")\n",
    "show_circles_on_map(m, df_data_agg[df_data_agg['msisdn'] == b ], \"lat\", \"long\", \"red\")\n"
   ]
  },
  {
   "cell_type": "code",
   "execution_count": null,
   "metadata": {},
   "outputs": [],
   "source": [
    "df_data[df_data['msisdn'].isin([a,b])][['msisdn', 'imei', 'tac']].drop_duplicates()"
   ]
  },
  {
   "cell_type": "code",
   "execution_count": null,
   "metadata": {},
   "outputs": [],
   "source": [
    "df_data_agg['long'] = (df_data_agg['long_max'] + df_data_agg['long_min'])/2\n",
    "df_data_agg['lat'] = (df_data_agg['lat_max'] + df_data_agg['lat_min'])/2"
   ]
  },
  {
   "cell_type": "code",
   "execution_count": null,
   "metadata": {},
   "outputs": [],
   "source": [
    "df_data_agg = df_data_agg.sort_values(['msisdn', 'datetime_bin'])\n",
    "df_data_agg['K'] = df_data_agg.groupby(['msisdn'])['msisdn'].cumcount()\n",
    "df_data_agg['K1'] = df_data_agg['K'] - 1"
   ]
  },
  {
   "cell_type": "code",
   "execution_count": null,
   "metadata": {},
   "outputs": [],
   "source": [
    "df_data_agg_full = df_data_agg.merge(df_data_agg[['msisdn', 'long', 'lat', 'datetime', 'K1']],\n",
    "                                    left_on = ['msisdn', 'K'],\n",
    "                                    right_on = ['msisdn', 'K1'], how = 'left')"
   ]
  },
  {
   "cell_type": "code",
   "execution_count": null,
   "metadata": {},
   "outputs": [],
   "source": [
    "df_data_agg_full.head()"
   ]
  },
  {
   "cell_type": "code",
   "execution_count": null,
   "metadata": {},
   "outputs": [],
   "source": [
    "df_data_msisdn = df_data_agg['msisdn'].drop_duplicates().reset_index()\n",
    "df_data_datetime = df_data_agg['datetime_bin'].drop_duplicates().reset_index()\n",
    "df_data_msisdn['K'] = 1\n",
    "df_data_datetime['K'] = 1\n",
    "df_data_agg_linear = df_data_msisdn.merge(df_data_datetime, on = ['K']).reset_index()"
   ]
  },
  {
   "cell_type": "code",
   "execution_count": null,
   "metadata": {},
   "outputs": [],
   "source": [
    "df_data_agg_linear = df_data_agg_linear[['msisdn', 'datetime_bin']].set_index(['msisdn', 'datetime_bin'])"
   ]
  },
  {
   "cell_type": "code",
   "execution_count": null,
   "metadata": {},
   "outputs": [],
   "source": [
    "df_data_agg_linear = pd.concat([df_data_agg_linear, df_data_agg_full.set_index(['msisdn', 'datetime_bin'])], axis = 1)\n",
    "df_data_agg_linear.reset_index(inplace = True)"
   ]
  },
  {
   "cell_type": "code",
   "execution_count": null,
   "metadata": {},
   "outputs": [],
   "source": [
    "df_data_agg_linear.head(10)"
   ]
  },
  {
   "cell_type": "code",
   "execution_count": null,
   "metadata": {},
   "outputs": [],
   "source": [
    "df_data_agg_linear['xx'] = 0\n",
    "df_data_agg_linear['xx'] = 1- (df_data_agg_linear['datetime_x'].isna())*1"
   ]
  },
  {
   "cell_type": "code",
   "execution_count": null,
   "metadata": {},
   "outputs": [],
   "source": [
    "df_data_agg_linear['datetime_xx'] =  df_data_agg_linear.groupby(['msisdn'])['xx'].cumsum()\n",
    "df_data_agg_linear['datetime_xx'] = df_data_agg_linear['datetime_xx'] -1\n",
    "df_data_agg_linear_ = df_data_agg_linear[['msisdn', 'datetime_bin', 'datetime_xx']].merge(df_data_agg_full, left_on = ['msisdn', 'datetime_xx'], right_on = ['msisdn', 'K'], how = 'left')"
   ]
  },
  {
   "cell_type": "code",
   "execution_count": null,
   "metadata": {},
   "outputs": [],
   "source": [
    "df_data_agg_linear_['long'] = df_data_agg_linear_['long_x'] + \\\n",
    "    (df_data_agg_linear_['datetime_bin_x'] - df_data_agg_linear_['datetime_x'])/(df_data_agg_linear_['datetime_y'] - df_data_agg_linear_['datetime_x'])*((df_data_agg_linear_['long_y'] - df_data_agg_linear_['long_x']))\n",
    "df_data_agg_linear_['lat'] = df_data_agg_linear_['lat_x'] + \\\n",
    "    (df_data_agg_linear_['datetime_bin_x'] - df_data_agg_linear_['datetime_x'])/(df_data_agg_linear_['datetime_y'] - df_data_agg_linear_['datetime_x'])*((df_data_agg_linear_['lat_y'] - df_data_agg_linear_['lat_x']))"
   ]
  },
  {
   "cell_type": "code",
   "execution_count": null,
   "metadata": {},
   "outputs": [],
   "source": [
    "df_data_agg_linear_['long'] = np.where(df_data_agg_linear_['datetime_bin_x'] == df_data_agg_linear_['datetime_x'], \n",
    "                                        df_data_agg_linear_['long_x'], df_data_agg_linear_['long'] )\n",
    "df_data_agg_linear_['lat'] = np.where(df_data_agg_linear_['datetime_bin_x'] == df_data_agg_linear_['datetime_x'], \n",
    "                                        df_data_agg_linear_['lat_x'], df_data_agg_linear_['lat'] )"
   ]
  },
  {
   "cell_type": "code",
   "execution_count": null,
   "metadata": {},
   "outputs": [],
   "source": [
    "df_data_agg_linear_.rename(columns = {'datetime_bin_x':'datetime'}, inplace = True)\n",
    "df_data_agg_linear_ = df_data_agg_linear_[['msisdn', 'datetime', 'lat', 'long']]"
   ]
  },
  {
   "cell_type": "code",
   "execution_count": null,
   "metadata": {},
   "outputs": [],
   "source": [
    "df_data_agg_lat = df_data_agg_linear_.pivot(index = 'msisdn', columns = 'datetime', values = 'lat')\n",
    "df_data_agg_lat.columns = df_data_agg_lat.columns.astype('str') + '_lat'\n",
    "df_data_agg_long = df_data_agg_linear_.pivot(index = 'msisdn', columns = 'datetime', values = 'long')\n",
    "df_data_agg_long.columns = df_data_agg_long.columns.astype('str') + '_long'"
   ]
  },
  {
   "cell_type": "code",
   "execution_count": null,
   "metadata": {},
   "outputs": [],
   "source": [
    "df_data_agg_coord = pd.concat([df_data_agg_lat, df_data_agg_long], axis = 1).reset_index()\n",
    "df_data_agg_coord.head()"
   ]
  },
  {
   "cell_type": "code",
   "execution_count": null,
   "metadata": {},
   "outputs": [],
   "source": [
    "df_data_agg_coord['N'] = 1"
   ]
  },
  {
   "cell_type": "code",
   "execution_count": null,
   "metadata": {},
   "outputs": [],
   "source": [
    "train_msisdn_2sim = pd.concat([facts[[0, 1]].rename(columns = {0:'msisdn_x', 1:'msisdn_y'}),\n",
    "                          facts[[1, 0]].rename(columns = {1:'msisdn_x', 0:'msisdn_y'})], axis = 0) \n",
    "print(train_msisdn_2sim.shape, train_msisdn_2sim['msisdn_x'].nunique())\n",
    "train_msisdn_2sim['y'] = 1"
   ]
  },
  {
   "cell_type": "code",
   "execution_count": null,
   "metadata": {},
   "outputs": [],
   "source": [
    "msisdns_pairs = df_data_msisdn.merge(df_data_msisdn, on = ['K']).drop(columns = ['index_x', 'index_y', 'K'])\n",
    "msisdns_pairs = msisdns_pairs[msisdns_pairs['msisdn_x'] != msisdns_pairs['msisdn_y']]\n",
    "msisdns_pairs = msisdns_pairs.merge(train_msisdn_2sim, on = ['msisdn_x', 'msisdn_y'], how = 'left')\n",
    "msisdns_pairs['y'] = np.where(msisdns_pairs['msisdn_x'] == msisdns_pairs['msisdn_y'], 1, msisdns_pairs['y'])\n",
    "msisdns_pairs['y'] = np.where(msisdns_pairs['msisdn_x'].isin(train_msisdn_2sim['msisdn_x']) &\n",
    "                              ~(msisdns_pairs['msisdn_y'].isin(train_msisdn_2sim['msisdn_x'])), 0, msisdns_pairs['y'])\n",
    "msisdns_pairs['y'] = np.where(msisdns_pairs['msisdn_y'].isin(train_msisdn_2sim['msisdn_x']) &\n",
    "                              ~(msisdns_pairs['msisdn_x'].isin(train_msisdn_2sim['msisdn_x'])), 0, msisdns_pairs['y'])"
   ]
  },
  {
   "cell_type": "code",
   "execution_count": null,
   "metadata": {},
   "outputs": [],
   "source": [
    "msisdns_pairs['y'].value_counts(), msisdns_pairs.shape"
   ]
  },
  {
   "cell_type": "code",
   "execution_count": null,
   "metadata": {},
   "outputs": [],
   "source": [
    "train_msisdn = msisdns_pairs[~msisdns_pairs['y'].isna()]\n",
    "train_msisdn.shape"
   ]
  },
  {
   "cell_type": "code",
   "execution_count": null,
   "metadata": {},
   "outputs": [],
   "source": [
    "df_data_agg_coord.drop(columns=['N'], inplace = True)"
   ]
  },
  {
   "cell_type": "code",
   "execution_count": null,
   "metadata": {},
   "outputs": [],
   "source": [
    "train = train_msisdn.merge(df_data_agg_coord.rename(columns = {'msisdn':'msisdn_x'}), on = ['msisdn_x']).merge(df_data_agg_coord.rename(columns = {'msisdn':'msisdn_y'}), on = ['msisdn_y'])"
   ]
  },
  {
   "cell_type": "code",
   "execution_count": null,
   "metadata": {},
   "outputs": [],
   "source": [
    "train.shape, train.columns"
   ]
  },
  {
   "cell_type": "code",
   "execution_count": null,
   "metadata": {},
   "outputs": [],
   "source": [
    "train.columns = train.columns.str.replace('.0_', '_')"
   ]
  },
  {
   "cell_type": "code",
   "execution_count": null,
   "metadata": {},
   "outputs": [],
   "source": [
    "for i in df_data['datetime_bin'].unique():\n",
    "    str_i = str(int(i))\n",
    "    lat_diff = (train[str_i+\"_lat_x\"].values - train[str_i+\"_lat_y\"].values)/lat_length\n",
    "    long_diff = (train[str_i+\"_long_x\"].values - train[str_i+\"_long_y\"].values)/long_length\n",
    "    length = np.sqrt(lat_diff**2 + long_diff**2)\n",
    "    train[str_i+\"_dist\"] = length"
   ]
  },
  {
   "cell_type": "code",
   "execution_count": null,
   "metadata": {},
   "outputs": [],
   "source": [
    "train['y'].value_counts()"
   ]
  },
  {
   "cell_type": "code",
   "execution_count": null,
   "metadata": {},
   "outputs": [],
   "source": [
    "from sklearn.ensemble import RandomForestClassifier\n",
    "from sklearn.model_selection import train_test_split\n",
    "\n",
    "\n",
    "X = train.drop(columns = ['msisdn_x', 'msisdn_y', 'y']).fillna(0)\n",
    "y = train['y']\n",
    "\n",
    "X_train, X_test, y_train, y_test = train_test_split(\n",
    "        X, y, test_size=0.3, random_state=42)\n",
    "\n",
    "clf = RandomForestClassifier(random_state=0)\n",
    "clf.fit(X_train, y_train)"
   ]
  },
  {
   "cell_type": "code",
   "execution_count": null,
   "metadata": {},
   "outputs": [],
   "source": [
    "'''\n",
    "param_grid = dict( )\n",
    "pipeline=Pipeline([ ('clf',clf) ])\n",
    "strarifiedCV = StratifiedShuffleSplit(n_splits=10,test_size=0.2, random_state=0)\n",
    "grid_search = GridSearchCV(pipeline,param_grid=param_grid,verbose=3,scoring='accuracy',\n",
    "'''"
   ]
  },
  {
   "cell_type": "code",
   "execution_count": null,
   "metadata": {},
   "outputs": [],
   "source": [
    "y_test_predict = clf.predict(X_test)\n",
    "y_train_predict = clf.predict(X_train)"
   ]
  },
  {
   "cell_type": "code",
   "execution_count": null,
   "metadata": {},
   "outputs": [],
   "source": [
    "from sklearn.metrics import accuracy_score\n",
    "from sklearn.metrics import roc_auc_score\n",
    "from sklearn.metrics import average_precision_score\n",
    "\n",
    "print('Train accuracy:', accuracy_score(y_train, y_train_predict), 'roc_auc_score:', roc_auc_score(y_train, y_train_predict),\n",
    "      'average_precision_score:', average_precision_score(y_train, y_train_predict))\n",
    "print('Test accuracy:', accuracy_score(y_test, y_test_predict), \"roc_auc_score:\", roc_auc_score(y_test, y_test_predict),\n",
    "      'average_precision_score:', average_precision_score(y_test, y_test_predict))"
   ]
  },
  {
   "cell_type": "code",
   "execution_count": null,
   "metadata": {},
   "outputs": [],
   "source": [
    "from sklearn.metrics import roc_curve\n",
    "from sklearn.metrics import plot_roc_curve\n",
    "from sklearn.metrics import roc_auc_score\n",
    "\n",
    "disp = plot_roc_curve(clf, X_test, y_test)\n",
    "roc_auc = roc_auc_score(y_test, y_test_predict)\n",
    "print(roc_auc)"
   ]
  },
  {
   "cell_type": "code",
   "execution_count": null,
   "metadata": {},
   "outputs": [],
   "source": [
    "from sklearn.metrics import precision_recall_curve\n",
    "from sklearn.metrics import plot_precision_recall_curve\n",
    "\n",
    "disp = plot_precision_recall_curve(clf, X_test, y_test)\n",
    "from sklearn.metrics import average_precision_score\n",
    "average_precision = average_precision_score(y_test, y_test_predict)\n",
    "print(average_precision)"
   ]
  },
  {
   "cell_type": "code",
   "execution_count": null,
   "metadata": {},
   "outputs": [],
   "source": [
    "y_predict = clf.predict(X)"
   ]
  },
  {
   "cell_type": "code",
   "execution_count": null,
   "metadata": {},
   "outputs": [],
   "source": [
    "y_test_predict[502225]"
   ]
  },
  {
   "cell_type": "code",
   "execution_count": null,
   "metadata": {},
   "outputs": [],
   "source": [
    "diff = (y_test - y_test_predict).reset_index()"
   ]
  },
  {
   "cell_type": "code",
   "execution_count": null,
   "metadata": {},
   "outputs": [],
   "source": [
    "predict_error = train.iloc[diff[diff['y'] != 0]['index']]"
   ]
  },
  {
   "cell_type": "markdown",
   "metadata": {},
   "source": [
    "# phone models"
   ]
  },
  {
   "cell_type": "code",
   "execution_count": null,
   "metadata": {},
   "outputs": [],
   "source": [
    "df_data_devices = df_data.groupby(['tac','vendor', 'platform', 'type'])['msisdn'].count().reset_index().sort_values('msisdn', ascending = False)"
   ]
  },
  {
   "cell_type": "code",
   "execution_count": null,
   "metadata": {},
   "outputs": [],
   "source": [
    "df_data_devices_ms = df_data[df_data['msisdn'].isin(train_msisdn['msisdn_x'])].groupby(['tac','vendor', 'platform', 'type'])['msisdn'].count().reset_index().sort_values('msisdn', ascending = False)"
   ]
  },
  {
   "cell_type": "code",
   "execution_count": null,
   "metadata": {},
   "outputs": [],
   "source": [
    "A = df_data_devices['msisdn'].sum()\n",
    "df_data_devices['msisdn'] = df_data_devices['msisdn']/A\n",
    "df_data_devices.head(20)"
   ]
  },
  {
   "cell_type": "code",
   "execution_count": null,
   "metadata": {},
   "outputs": [],
   "source": [
    "A = df_data_devices_ms['msisdn'].sum()\n",
    "df_data_devices_ms['msisdn'] = df_data_devices_ms['msisdn']/A\n",
    "df_data_devices_ms.head(20)"
   ]
  },
  {
   "cell_type": "code",
   "execution_count": null,
   "metadata": {},
   "outputs": [],
   "source": [
    "df_data.groupby(['tac','vendor', 'platform', 'type'])['msisdn'].count().reset_index().sort_values('msisdn', ascending = False)"
   ]
  },
  {
   "cell_type": "code",
   "execution_count": null,
   "metadata": {},
   "outputs": [],
   "source": []
  }
 ],
 "metadata": {
  "kernelspec": {
   "display_name": "Python 3",
   "language": "python",
   "name": "python3"
  },
  "language_info": {
   "codemirror_mode": {
    "name": "ipython",
    "version": 3
   },
   "file_extension": ".py",
   "mimetype": "text/x-python",
   "name": "python",
   "nbconvert_exporter": "python",
   "pygments_lexer": "ipython3",
   "version": "3.7.3"
  }
 },
 "nbformat": 4,
 "nbformat_minor": 2
}
